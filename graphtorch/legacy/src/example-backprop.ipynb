{
 "cells": [
  {
   "cell_type": "code",
   "execution_count": 1,
   "metadata": {},
   "outputs": [],
   "source": [
    "%matplotlib inline\n",
    "%load_ext autoreload\n",
    "%autoreload 2"
   ]
  },
  {
   "cell_type": "code",
   "execution_count": 2,
   "metadata": {},
   "outputs": [],
   "source": [
    "from graphtorch import SparseMatrix, SparseModel\n",
    "import numpy as np\n",
    "import torch \n",
    "import torch.nn as nn"
   ]
  },
  {
   "cell_type": "markdown",
   "metadata": {},
   "source": [
    "Example 2"
   ]
  },
  {
   "cell_type": "markdown",
   "metadata": {},
   "source": [
    "![](img/example2_1.png)"
   ]
  },
  {
   "cell_type": "markdown",
   "metadata": {},
   "source": [
    "![](img/example2_2.png)"
   ]
  },
  {
   "cell_type": "code",
   "execution_count": 3,
   "metadata": {},
   "outputs": [],
   "source": [
    "mat2 = np.array([[2,0,0,0,0,0],\n",
    "                [0,0,0,3,0,1]])\n",
    "in_dim = 5\n",
    "out_dim = 1\n",
    "mat_wann2 = SparseMatrix(mat2, in_dim, out_dim)  "
   ]
  },
  {
   "cell_type": "code",
   "execution_count": 4,
   "metadata": {},
   "outputs": [
    {
     "data": {
      "text/plain": [
       "3"
      ]
     },
     "execution_count": 4,
     "metadata": {},
     "output_type": "execute_result"
    }
   ],
   "source": [
    "mat_wann2.connection_count"
   ]
  },
  {
   "cell_type": "code",
   "execution_count": 5,
   "metadata": {},
   "outputs": [],
   "source": [
    "activations = [None, None, nn.ReLU(), nn.Sigmoid()]  \n",
    "constant_weight = 1 \n",
    "model = SparseModel(mat_wann2, activations, constant_weight)\n",
    "\n",
    "numpy_input = np.array([[1,2,3,4,5],  \n",
    "                        [6,7,8,9,10],  \n",
    "                        [11,12,13,14,15]]) \n",
    "\n",
    "numpy_input = torch.from_numpy(numpy_input).float()  \n",
    "output, nodes = model(numpy_input)  "
   ]
  },
  {
   "cell_type": "code",
   "execution_count": 6,
   "metadata": {},
   "outputs": [
    {
     "data": {
      "text/plain": [
       "3"
      ]
     },
     "execution_count": 6,
     "metadata": {},
     "output_type": "execute_result"
    }
   ],
   "source": [
    "model.connection_count"
   ]
  },
  {
   "cell_type": "code",
   "execution_count": 7,
   "metadata": {},
   "outputs": [
    {
     "data": {
      "text/plain": [
       "tensor([[ 1.9820],\n",
       "        [ 6.9999],\n",
       "        [12.0000]], grad_fn=<AddBackward0>)"
      ]
     },
     "execution_count": 7,
     "metadata": {},
     "output_type": "execute_result"
    }
   ],
   "source": [
    "output"
   ]
  },
  {
   "cell_type": "code",
   "execution_count": 8,
   "metadata": {},
   "outputs": [
    {
     "data": {
      "text/plain": [
       "{'hidden_0': tensor([[ 1.],\n",
       "         [ 6.],\n",
       "         [11.]], grad_fn=<ReluBackward0>), 'output_0': tensor([[ 1.9820],\n",
       "         [ 6.9999],\n",
       "         [12.0000]], grad_fn=<AddBackward0>)}"
      ]
     },
     "execution_count": 8,
     "metadata": {},
     "output_type": "execute_result"
    }
   ],
   "source": [
    "nodes"
   ]
  },
  {
   "cell_type": "code",
   "execution_count": 9,
   "metadata": {},
   "outputs": [
    {
     "data": {
      "text/plain": [
       "tensor([[ 2.],\n",
       "        [14.],\n",
       "        [24.]])"
      ]
     },
     "execution_count": 9,
     "metadata": {},
     "output_type": "execute_result"
    }
   ],
   "source": [
    "# the network should double the input of when weights are all 1\n",
    "numpy_output = np.array([[2],\n",
    "                        [14],\n",
    "                        [24]])\n",
    "numpy_output = torch.from_numpy(numpy_output).float()\n",
    "numpy_output"
   ]
  },
  {
   "cell_type": "code",
   "execution_count": 10,
   "metadata": {},
   "outputs": [
    {
     "name": "stdout",
     "output_type": "stream",
     "text": [
      "[Parameter containing:\n",
      "tensor([[1.0010]], requires_grad=True), Parameter containing:\n",
      "tensor([[1.0010]], requires_grad=True), Parameter containing:\n",
      "tensor([[1.0010]], requires_grad=True), Parameter containing:\n",
      "tensor([[1.]], requires_grad=True)]\n",
      "loss : 64.334\n",
      "[Parameter containing:\n",
      "tensor([[1.0020]], requires_grad=True), Parameter containing:\n",
      "tensor([[1.0020]], requires_grad=True), Parameter containing:\n",
      "tensor([[1.0020]], requires_grad=True), Parameter containing:\n",
      "tensor([[1.]], requires_grad=True)]\n",
      "loss : 64.102\n",
      "[Parameter containing:\n",
      "tensor([[1.0030]], requires_grad=True), Parameter containing:\n",
      "tensor([[1.0030]], requires_grad=True), Parameter containing:\n",
      "tensor([[1.0030]], requires_grad=True), Parameter containing:\n",
      "tensor([[1.]], requires_grad=True)]\n",
      "loss : 63.870\n",
      "[Parameter containing:\n",
      "tensor([[1.0040]], requires_grad=True), Parameter containing:\n",
      "tensor([[1.0040]], requires_grad=True), Parameter containing:\n",
      "tensor([[1.0040]], requires_grad=True), Parameter containing:\n",
      "tensor([[1.]], requires_grad=True)]\n",
      "loss : 63.639\n",
      "[Parameter containing:\n",
      "tensor([[1.0050]], requires_grad=True), Parameter containing:\n",
      "tensor([[1.0050]], requires_grad=True), Parameter containing:\n",
      "tensor([[1.0050]], requires_grad=True), Parameter containing:\n",
      "tensor([[1.]], requires_grad=True)]\n",
      "loss : 63.407\n",
      "[Parameter containing:\n",
      "tensor([[1.0060]], requires_grad=True), Parameter containing:\n",
      "tensor([[1.0060]], requires_grad=True), Parameter containing:\n",
      "tensor([[1.0060]], requires_grad=True), Parameter containing:\n",
      "tensor([[1.]], requires_grad=True)]\n",
      "loss : 63.176\n",
      "[Parameter containing:\n",
      "tensor([[1.0070]], requires_grad=True), Parameter containing:\n",
      "tensor([[1.0070]], requires_grad=True), Parameter containing:\n",
      "tensor([[1.0070]], requires_grad=True), Parameter containing:\n",
      "tensor([[1.]], requires_grad=True)]\n",
      "loss : 62.945\n",
      "[Parameter containing:\n",
      "tensor([[1.0080]], requires_grad=True), Parameter containing:\n",
      "tensor([[1.0079]], requires_grad=True), Parameter containing:\n",
      "tensor([[1.0080]], requires_grad=True), Parameter containing:\n",
      "tensor([[1.]], requires_grad=True)]\n",
      "loss : 62.715\n",
      "[Parameter containing:\n",
      "tensor([[1.0090]], requires_grad=True), Parameter containing:\n",
      "tensor([[1.0089]], requires_grad=True), Parameter containing:\n",
      "tensor([[1.0090]], requires_grad=True), Parameter containing:\n",
      "tensor([[1.]], requires_grad=True)]\n",
      "loss : 62.484\n",
      "[Parameter containing:\n",
      "tensor([[1.0100]], requires_grad=True), Parameter containing:\n",
      "tensor([[1.0099]], requires_grad=True), Parameter containing:\n",
      "tensor([[1.0100]], requires_grad=True), Parameter containing:\n",
      "tensor([[1.]], requires_grad=True)]\n",
      "loss : 62.254\n"
     ]
    }
   ],
   "source": [
    "criterion = nn.MSELoss()\n",
    "optimizer = torch.optim.Adam(model.parameters())\n",
    "for epoch in range(10) : \n",
    "    model.train()\n",
    "    optimizer.zero_grad()\n",
    "    output, nodes = model(numpy_input)  \n",
    "    loss = criterion(output, numpy_output)\n",
    "    loss.backward()\n",
    "    optimizer.step()\n",
    "    \n",
    "    print([x for x in model.parameters()])\n",
    "    print('loss : %.3f' % loss.item())"
   ]
  },
  {
   "cell_type": "code",
   "execution_count": 11,
   "metadata": {},
   "outputs": [
    {
     "data": {
      "text/plain": [
       "tensor([[ 2.0007],\n",
       "        [ 7.1083],\n",
       "        [12.1988]], grad_fn=<AddBackward0>)"
      ]
     },
     "execution_count": 11,
     "metadata": {},
     "output_type": "execute_result"
    }
   ],
   "source": [
    "output"
   ]
  },
  {
   "cell_type": "code",
   "execution_count": 12,
   "metadata": {},
   "outputs": [
    {
     "data": {
      "text/plain": [
       "tensor([[ 2.],\n",
       "        [14.],\n",
       "        [24.]])"
      ]
     },
     "execution_count": 12,
     "metadata": {},
     "output_type": "execute_result"
    }
   ],
   "source": [
    "numpy_output"
   ]
  }
 ],
 "metadata": {
  "kernelspec": {
   "display_name": "Python 3",
   "language": "python",
   "name": "python3"
  },
  "language_info": {
   "codemirror_mode": {
    "name": "ipython",
    "version": 3
   },
   "file_extension": ".py",
   "mimetype": "text/x-python",
   "name": "python",
   "nbconvert_exporter": "python",
   "pygments_lexer": "ipython3",
   "version": "3.6.8"
  }
 },
 "nbformat": 4,
 "nbformat_minor": 4
}
