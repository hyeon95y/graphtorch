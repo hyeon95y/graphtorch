{
 "cells": [
  {
   "cell_type": "markdown",
   "metadata": {},
   "source": [
    "# Convert given array as a sparse connected fcn\n",
    "\n",
    "- Input node cannot be connected to the others\n",
    "- But all output nodes should be connected to at least one hidden node or input node"
   ]
  },
  {
   "cell_type": "code",
   "execution_count": 1,
   "metadata": {},
   "outputs": [],
   "source": [
    "import numpy as np\n",
    "import torch\n",
    "import torch.nn as nn"
   ]
  },
  {
   "cell_type": "markdown",
   "metadata": {},
   "source": [
    "## Connection also represents its acitvation function\n",
    "- 0 : not connected\n",
    "- 1 : linear \n",
    "- 2 : ReLU\n",
    "- 3 : Sigmoid\n",
    "- and so on..\n",
    "\n",
    "**this index can be changed**"
   ]
  },
  {
   "cell_type": "code",
   "execution_count": 2,
   "metadata": {},
   "outputs": [],
   "source": [
    "# 0 : Not connected\n",
    "# 1 : linear\n",
    "# 2 : ReLU\n",
    "# 3 : Sigmoid\n",
    "activations = [None, None, nn.ReLU(), nn.Sigmoid()]"
   ]
  },
  {
   "cell_type": "markdown",
   "metadata": {},
   "source": [
    "# References\n",
    "- [Concatenate layer output with additional input data](https://discuss.pytorch.org/t/concatenate-layer-output-with-additional-input-data/20462)"
   ]
  },
  {
   "cell_type": "code",
   "execution_count": 3,
   "metadata": {},
   "outputs": [],
   "source": [
    "class MatrixForWANN():\n",
    "    \n",
    "    def __init__(self, mat, in_dim, out_dim):\n",
    "        # get when initialized\n",
    "        self.mat = mat\n",
    "        self.in_dim = in_dim\n",
    "        self.out_dim = out_dim\n",
    "        \n",
    "        #calculate\n",
    "        self.num_hidden_nodes = self.mat.shape[1] - self.in_dim   \n",
    "        \n",
    "        #when matrix has hidden layer  \n",
    "        if self.num_hidden_nodes == 1:  \n",
    "            self.hidden_dim = [1] \n",
    "        elif self.num_hidden_nodes == 0:\n",
    "            self.hidden_dim = []\n",
    "        else:\n",
    "            self.hidden_dim = self.get_hidden_dim()   \n",
    "            \n",
    "            \n",
    "    def get_hidden_dim(self):\n",
    "        in_dim = self.in_dim\n",
    "        out_dim = self.out_dim\n",
    "        mat_mask = self.mat\n",
    "        \n",
    "        hidden_dim_list = []\n",
    "        start_col_idx = 0\n",
    "        finish_col_idx = in_dim -1   \n",
    "        \n",
    "        while(True):\n",
    "            \n",
    "            if finish_col_idx >= mat_mask.shape[1]:   \n",
    "                print(finish_col_idx)\n",
    "                break  \n",
    "            \n",
    "            if ((mat_mask.shape[0] - sum(hidden_dim_list)) == out_dim):  #example4 해결\n",
    "                 break  #지금 hidden dimension들 합이랑 output dim 합이 row길이랑 같으면 더이상 탐색 필요 x\n",
    "            \n",
    "            for i in range(sum(hidden_dim_list), len(mat_mask)): #이부분이상한데..?   \n",
    "    \n",
    "                #밑에처럼 하면 example 2에서 오류가 남.\n",
    "                #skip connection에 대한 예외처리 해줘야 함   \n",
    "    \n",
    "                if(mat_mask[i,start_col_idx:(finish_col_idx + 1)].sum() == 0):   \n",
    "                \n",
    "                    hidden_dim = i - sum(hidden_dim_list)\n",
    "                    hidden_dim_list += [hidden_dim]\n",
    "                    start_col_idx = finish_col_idx + 1\n",
    "                    finish_col_idx += hidden_dim   \n",
    "                    break    \n",
    "                    \n",
    "        return hidden_dim_list"
   ]
  },
  {
   "cell_type": "markdown",
   "metadata": {},
   "source": [
    "# Examples"
   ]
  },
  {
   "cell_type": "markdown",
   "metadata": {},
   "source": [
    "## Example 1"
   ]
  },
  {
   "cell_type": "markdown",
   "metadata": {},
   "source": [
    "![](img/example1_1.png)"
   ]
  },
  {
   "cell_type": "markdown",
   "metadata": {},
   "source": [
    "![](img/example1_2.png)"
   ]
  },
  {
   "cell_type": "code",
   "execution_count": 4,
   "metadata": {},
   "outputs": [],
   "source": [
    "mat1 = np.array([[0,2,0,0,2,0,0,0,0,0],\n",
    "                [2,0,2,0,0,0,0,0,0,0],\n",
    "                [0,2,0,2,0,0,0,0,0,0],\n",
    "                [0,0,0,0,0,1,1,0,0,0],\n",
    "                [0,0,0,0,0,0,1,1,0,0],\n",
    "                [0,0,0,0,0,0,0,0,0,3],\n",
    "                [0,0,0,0,0,0,0,0,3,0]])\n",
    "in_dim = 5\n",
    "out_dim = 2\n",
    "mat_wann1 = MatrixForWANN(mat1, in_dim, out_dim)"
   ]
  },
  {
   "cell_type": "code",
   "execution_count": 5,
   "metadata": {},
   "outputs": [
    {
     "data": {
      "text/plain": [
       "array([0, 2, 0, 0, 2, 0, 0, 0, 0, 0])"
      ]
     },
     "execution_count": 5,
     "metadata": {},
     "output_type": "execute_result"
    }
   ],
   "source": [
    "# first position represents row : FROM\n",
    "mat1[0]"
   ]
  },
  {
   "cell_type": "code",
   "execution_count": 6,
   "metadata": {},
   "outputs": [
    {
     "data": {
      "text/plain": [
       "array([0, 2, 0, 0, 0, 0, 0])"
      ]
     },
     "execution_count": 6,
     "metadata": {},
     "output_type": "execute_result"
    }
   ],
   "source": [
    "# second position represents column : TO\n",
    "mat1[:, 0]"
   ]
  },
  {
   "cell_type": "code",
   "execution_count": 7,
   "metadata": {},
   "outputs": [
    {
     "data": {
      "text/plain": [
       "array([[0, 2, 0, 0, 2],\n",
       "       [2, 0, 2, 0, 0],\n",
       "       [0, 2, 0, 2, 0],\n",
       "       [0, 0, 0, 0, 0],\n",
       "       [0, 0, 0, 0, 0]])"
      ]
     },
     "execution_count": 7,
     "metadata": {},
     "output_type": "execute_result"
    }
   ],
   "source": [
    "# get destinations of input layer\n",
    "mat1[:mat_wann1.num_hidden_nodes, :in_dim]"
   ]
  },
  {
   "cell_type": "code",
   "execution_count": 8,
   "metadata": {},
   "outputs": [
    {
     "data": {
      "text/plain": [
       "5"
      ]
     },
     "execution_count": 8,
     "metadata": {},
     "output_type": "execute_result"
    }
   ],
   "source": [
    "# num of total hidden nodes\n",
    "mat_wann1.num_hidden_nodes"
   ]
  },
  {
   "cell_type": "code",
   "execution_count": 9,
   "metadata": {},
   "outputs": [
    {
     "data": {
      "text/plain": [
       "[3, 2]"
      ]
     },
     "execution_count": 9,
     "metadata": {},
     "output_type": "execute_result"
    }
   ],
   "source": [
    "# get number of hidden layers and its node index\n",
    "mat_wann1.hidden_dim"
   ]
  },
  {
   "cell_type": "markdown",
   "metadata": {},
   "source": [
    "## Example 2"
   ]
  },
  {
   "cell_type": "markdown",
   "metadata": {},
   "source": [
    "![](img/example2_1.png)"
   ]
  },
  {
   "cell_type": "markdown",
   "metadata": {},
   "source": [
    "![](img/example2_2.png)"
   ]
  },
  {
   "cell_type": "code",
   "execution_count": 10,
   "metadata": {},
   "outputs": [],
   "source": [
    "mat2 = np.array([[2,0,0,0,0,0],\n",
    "                [0,0,0,3,0,1]])\n",
    "in_dim = 5\n",
    "out_dim = 1\n",
    "mat_wann2 = MatrixForWANN(mat2, in_dim, out_dim)"
   ]
  },
  {
   "cell_type": "code",
   "execution_count": 11,
   "metadata": {},
   "outputs": [
    {
     "data": {
      "text/plain": [
       "1"
      ]
     },
     "execution_count": 11,
     "metadata": {},
     "output_type": "execute_result"
    }
   ],
   "source": [
    "mat_wann2.num_hidden_nodes"
   ]
  },
  {
   "cell_type": "code",
   "execution_count": 12,
   "metadata": {},
   "outputs": [
    {
     "data": {
      "text/plain": [
       "[1]"
      ]
     },
     "execution_count": 12,
     "metadata": {},
     "output_type": "execute_result"
    }
   ],
   "source": [
    "mat_wann2.hidden_dim"
   ]
  },
  {
   "cell_type": "markdown",
   "metadata": {},
   "source": [
    "# Example 3"
   ]
  },
  {
   "cell_type": "markdown",
   "metadata": {},
   "source": [
    "![](img/example3_1.png)"
   ]
  },
  {
   "cell_type": "code",
   "execution_count": 13,
   "metadata": {},
   "outputs": [],
   "source": [
    "mat3 = np.array([[2,0,0,3,0],\n",
    "                [0,0,0,0,1]])\n",
    "in_dim = 5\n",
    "out_dim = 2\n",
    "mat_wann3 = MatrixForWANN(mat3, in_dim, out_dim)"
   ]
  },
  {
   "cell_type": "code",
   "execution_count": 14,
   "metadata": {},
   "outputs": [
    {
     "data": {
      "text/plain": [
       "0"
      ]
     },
     "execution_count": 14,
     "metadata": {},
     "output_type": "execute_result"
    }
   ],
   "source": [
    "mat_wann3.num_hidden_nodes"
   ]
  },
  {
   "cell_type": "code",
   "execution_count": 15,
   "metadata": {},
   "outputs": [
    {
     "data": {
      "text/plain": [
       "[]"
      ]
     },
     "execution_count": 15,
     "metadata": {},
     "output_type": "execute_result"
    }
   ],
   "source": [
    "mat_wann3.hidden_dim"
   ]
  },
  {
   "cell_type": "markdown",
   "metadata": {},
   "source": [
    "## Example 4"
   ]
  },
  {
   "cell_type": "markdown",
   "metadata": {},
   "source": [
    "![](img/example4_1.png)"
   ]
  },
  {
   "cell_type": "code",
   "execution_count": 16,
   "metadata": {},
   "outputs": [],
   "source": [
    "mat4 = np.array([[3,0,1,0,0],\n",
    "                [0,3,0,0,0],\n",
    "                [0,0,0,2,0],\n",
    "                [0,0,0,0,2],\n",
    "                [0,0,1,2,0],\n",
    "                [0,0,1,0,0]])\n",
    "in_dim = 3\n",
    "out_dim = 4\n",
    "mat_wann4 = MatrixForWANN(mat4, in_dim, out_dim)"
   ]
  },
  {
   "cell_type": "code",
   "execution_count": 17,
   "metadata": {},
   "outputs": [
    {
     "data": {
      "text/plain": [
       "2"
      ]
     },
     "execution_count": 17,
     "metadata": {},
     "output_type": "execute_result"
    }
   ],
   "source": [
    "mat_wann4.num_hidden_nodes"
   ]
  },
  {
   "cell_type": "code",
   "execution_count": 18,
   "metadata": {},
   "outputs": [
    {
     "data": {
      "text/plain": [
       "[2]"
      ]
     },
     "execution_count": 18,
     "metadata": {},
     "output_type": "execute_result"
    }
   ],
   "source": [
    "mat_wann4.hidden_dim"
   ]
  },
  {
   "cell_type": "markdown",
   "metadata": {},
   "source": [
    "## Example 5\n",
    "- Example 1에서 Input4 -> Hidden 5로 가는 Skip connection이 추가됨"
   ]
  },
  {
   "cell_type": "markdown",
   "metadata": {},
   "source": [
    "![](img/example5_1.png)"
   ]
  },
  {
   "cell_type": "code",
   "execution_count": 19,
   "metadata": {},
   "outputs": [],
   "source": [
    "mat5 = np.array([[0,2,0,0,2,0,0,0,0,0],\n",
    "                [2,0,2,0,0,0,0,0,0,0],\n",
    "                [0,2,0,2,0,0,0,0,0,0],\n",
    "                [0,0,0,0,0,1,1,0,0,0],\n",
    "                [0,0,0,2,0,0,1,1,0,0],\n",
    "                [0,0,0,0,0,0,0,0,0,3],\n",
    "                [0,0,0,0,0,0,0,0,3,0]])\n",
    "in_dim = 5\n",
    "out_dim = 2\n",
    "mat_wann5 = MatrixForWANN(mat5, in_dim, out_dim)"
   ]
  },
  {
   "cell_type": "code",
   "execution_count": 20,
   "metadata": {},
   "outputs": [
    {
     "data": {
      "text/plain": [
       "5"
      ]
     },
     "execution_count": 20,
     "metadata": {},
     "output_type": "execute_result"
    }
   ],
   "source": [
    "mat_wann5.num_hidden_nodes"
   ]
  },
  {
   "cell_type": "code",
   "execution_count": 21,
   "metadata": {},
   "outputs": [
    {
     "data": {
      "text/plain": [
       "[3, 2]"
      ]
     },
     "execution_count": 21,
     "metadata": {},
     "output_type": "execute_result"
    }
   ],
   "source": [
    "mat_wann5.hidden_dim"
   ]
  },
  {
   "cell_type": "markdown",
   "metadata": {},
   "source": [
    "# class WANNFCN"
   ]
  },
  {
   "cell_type": "code",
   "execution_count": 39,
   "metadata": {},
   "outputs": [],
   "source": [
    "constant_weight = 1\n",
    "\n",
    "def wrap_activation(x, idx_activation, activations) :  \n",
    "    if idx_activation == 0 :\n",
    "        assert True\n",
    "    elif idx_activation == 1 :\n",
    "        layer = nn.Linear(1,1, bias=False)\n",
    "        layer.weight.data.fill_(constant_weight)\n",
    "        return layer(x)\n",
    "    else : \n",
    "        layer = nn.Linear(1,1, bias=False)\n",
    "        layer.weight.data.fill_(constant_weight)\n",
    "        return activations[idx_activation](layer(x))"
   ]
  },
  {
   "cell_type": "code",
   "execution_count": 35,
   "metadata": {},
   "outputs": [],
   "source": [
    "# without hidden layer counts\n",
    "\n",
    "class WANNFCN(nn.Module) : \n",
    "    def __init__(self, mat_wann, activations) : \n",
    "        super(WANNFCN, self).__init__()\n",
    "        self.mat = mat_wann.mat\n",
    "        self.in_dim = mat_wann.in_dim\n",
    "        self.out_dim = mat_wann.out_dim\n",
    "        self.num_hidden_nodes = mat_wann.num_hidden_nodes\n",
    "        self.hidden_dim = mat_wann.hidden_dim\n",
    "        \n",
    "        self.activations = activations\n",
    "        \n",
    "        self.nodes = {}\n",
    "        '''\n",
    "        nodes라는 dictionary 안에 아래와 같이 저장됨\n",
    "        'hidden_1' : 해당 노드\n",
    "        'hidden_2' : 해당 노드\n",
    "        ...\n",
    "        'output_1' : 해당 output 노드, hidden node로부터 연결되어있음\n",
    "        'output_2' : 해당 output 노드, input node, hidden node로부터 연결되어있음\n",
    "        '''\n",
    "        \n",
    "    def forward(self, x) : \n",
    "        \n",
    "        # hidden node가 한개라도 있을때\n",
    "        self.connect(x)\n",
    "        \n",
    "        # output은 반드시 있음\n",
    "        outputs = self.concat_output()\n",
    "        print(self.nodes)\n",
    "        \n",
    "        return outputs\n",
    "    \n",
    "    def concat_output(self) :\n",
    "        for idx_output_node in list(range(self.out_dim)) :\n",
    "            print('output %d' %idx_output_node)\n",
    "            print(self.nodes['output_%d'%idx_output_node])\n",
    "            if idx_output_node == 0 :\n",
    "                outputs = self.nodes['output_%d'%idx_output_node]\n",
    "            else : \n",
    "                outputs = torch.cat((outputs, self.nodes['output_%d'%idx_output_node]), 1)\n",
    "        \n",
    "        return outputs\n",
    "    \n",
    "    def connect(self, x) : \n",
    "        # input layer와 모든 이전 hidden layer를 탐색\n",
    "        # 그렇지 않으면 skip connection을 놓칠수 있음\n",
    "        # 모든 node와 connection은 dictionary self.nodes에 저장\n",
    "        print(self.hidden_dim)\n",
    "        hidden_node_counts = 0\n",
    "        \n",
    "        \n",
    "        ############################### loop for hidden nodes\n",
    "        for idx_hidden_row in list(range(0, self.mat.shape[0])) : \n",
    "            #connections_from_input = self.mat[idx_hidden_row, :self.in_dim]\n",
    "            connections_from_input = self.mat[idx_hidden_row, :]\n",
    "            print('connection from input : ', connections_from_input)\n",
    "            if connections_from_input.sum() != 0 :\n",
    "                count_connection = 0\n",
    "                input_node = None\n",
    "                ############################# loop for input nodes\n",
    "                for idx_input_col, activation_type in enumerate(connections_from_input) :\n",
    "                    print('idx_input_col %s, activation_type %s' % (idx_input_col, activation_type))\n",
    "                    if activation_type != 0 and count_connection == 0:\n",
    "                        # x[sample index, positional index for input]\n",
    "                        print('\\n**first input node')\n",
    "\n",
    "                        # 1) idx_input_col 이 input에서 오는 경우\n",
    "                        if idx_input_col < self.in_dim : \n",
    "                            input_node = wrap_activation(x[:, idx_input_col].view(-1, 1), activation_type, activations)\n",
    "                        # 2) idx_input_col이 hidden에서 오는 경우\n",
    "                        elif idx_input_col >= self.in_dim : \n",
    "                            input_node = wrap_activation(self.nodes['hidden_%d'%(idx_input_col-self.in_dim)], activation_type, activations)\n",
    "\n",
    "                        print(input_node)\n",
    "                        count_connection += 1\n",
    "                    elif activation_type != 0 and count_connection != 0 :\n",
    "                        print('%s input node' % idx_input_col)\n",
    "                        # x[sample index, positional index for input]\n",
    "                        # torch.sum returns the addition of two tensors\n",
    "\n",
    "                        print('\\n**input_node', input_node.shape)\n",
    "                        print(input_node)\n",
    "\n",
    "                        #new_node = wrap_activation(x[:, idx_input_col].view(-1, 1), activation_type, activations)\n",
    "\n",
    "                        new_node = None\n",
    "                        # 1) idx_input_col 이 input에서 오는 경우\n",
    "                        if idx_input_col < self.in_dim : \n",
    "                            new_node = wrap_activation(x[:, idx_input_col].view(-1, 1), activation_type, activations)\n",
    "                        # 2) idx_input_col이 hidden에서 오는 경우\n",
    "                        elif idx_input_col >= self.in_dim : \n",
    "                            new_node = wrap_activation(self.nodes['hidden_%d'%(idx_input_col-self.in_dim)], activation_type, activations)\n",
    "\n",
    "\n",
    "\n",
    "                        print('\\n**wrap_activation', new_node.shape)\n",
    "                        print(new_node)\n",
    "                        input_node = input_node + new_node\n",
    "                        print('\\n**sum', input_node.shape)\n",
    "                        print(input_node)\n",
    "\n",
    "\n",
    "                        #input_node = torch.sum(input_node, wrap_activation(x[:, idx_input_col].view(-1, 1), activation_type, activations))\n",
    "                        count_connection += 1\n",
    "            # connect all input nodes to given hidden node\n",
    "            if idx_hidden_row < self.num_hidden_nodes : \n",
    "                self.nodes['hidden_%d'%idx_hidden_row] = input_node \n",
    "            else : \n",
    "                self.nodes['output_%d'%(idx_hidden_row-self.num_hidden_nodes)] = input_node \n",
    "        # sum all numbers of hidden nodes from this layer\n",
    "        hidden_node_counts += 1\n",
    "\n",
    "            \n",
    "            ############ 2. 두번째 이후의 layer일 경우 : input을 x로 받거나, 앞의 hidden node로 받름\n",
    "            #if idx_hidden_layer == 0 :"
   ]
  },
  {
   "cell_type": "code",
   "execution_count": null,
   "metadata": {},
   "outputs": [],
   "source": [
    "model = WANNFCN(mat_wann1, activations)\n",
    "\n",
    "numpy_input = np.array([[1,2,3,4,5],\n",
    "                        [6,7,8,9,10],\n",
    "                        [11,12,13,14,15]])\n",
    "numpy_input = torch.from_numpy(numpy_input).float()\n",
    "model(numpy_input)"
   ]
  },
  {
   "cell_type": "code",
   "execution_count": 40,
   "metadata": {},
   "outputs": [
    {
     "name": "stdout",
     "output_type": "stream",
     "text": [
      "tensor([[ 1.,  2.,  3.,  4.,  5.],\n",
      "        [ 6.,  7.,  8.,  9., 10.],\n",
      "        [11., 12., 13., 14., 15.]])\n",
      "[1]\n",
      "connection from input :  [2 0 0 0 0 0]\n",
      "idx_input_col 0, activation_type 2\n",
      "\n",
      "**first input node\n",
      "tensor([[ 1.],\n",
      "        [ 6.],\n",
      "        [11.]], grad_fn=<ReluBackward0>)\n",
      "idx_input_col 1, activation_type 0\n",
      "idx_input_col 2, activation_type 0\n",
      "idx_input_col 3, activation_type 0\n",
      "idx_input_col 4, activation_type 0\n",
      "idx_input_col 5, activation_type 0\n",
      "connection from input :  [0 0 0 3 0 1]\n",
      "idx_input_col 0, activation_type 0\n",
      "idx_input_col 1, activation_type 0\n",
      "idx_input_col 2, activation_type 0\n",
      "idx_input_col 3, activation_type 3\n",
      "\n",
      "**first input node\n",
      "tensor([[0.9820],\n",
      "        [0.9999],\n",
      "        [1.0000]], grad_fn=<SigmoidBackward>)\n",
      "idx_input_col 4, activation_type 0\n",
      "idx_input_col 5, activation_type 1\n",
      "5 input node\n",
      "\n",
      "**input_node torch.Size([3, 1])\n",
      "tensor([[0.9820],\n",
      "        [0.9999],\n",
      "        [1.0000]], grad_fn=<SigmoidBackward>)\n",
      "\n",
      "**wrap_activation torch.Size([3, 1])\n",
      "tensor([[ 1.],\n",
      "        [ 6.],\n",
      "        [11.]], grad_fn=<MmBackward>)\n",
      "\n",
      "**sum torch.Size([3, 1])\n",
      "tensor([[ 1.9820],\n",
      "        [ 6.9999],\n",
      "        [12.0000]], grad_fn=<AddBackward0>)\n",
      "output 0\n",
      "tensor([[ 1.9820],\n",
      "        [ 6.9999],\n",
      "        [12.0000]], grad_fn=<AddBackward0>)\n",
      "{'hidden_0': tensor([[ 1.],\n",
      "        [ 6.],\n",
      "        [11.]], grad_fn=<ReluBackward0>), 'output_0': tensor([[ 1.9820],\n",
      "        [ 6.9999],\n",
      "        [12.0000]], grad_fn=<AddBackward0>)}\n"
     ]
    },
    {
     "data": {
      "text/plain": [
       "tensor([[ 1.9820],\n",
       "        [ 6.9999],\n",
       "        [12.0000]], grad_fn=<AddBackward0>)"
      ]
     },
     "execution_count": 40,
     "metadata": {},
     "output_type": "execute_result"
    }
   ],
   "source": [
    "model = WANNFCN(mat_wann2, activations)\n",
    "numpy_input = np.array([[1,2,3,4,5],\n",
    "                        [6,7,8,9,10],\n",
    "                        [11,12,13,14,15]])\n",
    "numpy_input = torch.from_numpy(numpy_input).float()\n",
    "print(numpy_input)\n",
    "model(numpy_input)"
   ]
  },
  {
   "cell_type": "code",
   "execution_count": null,
   "metadata": {},
   "outputs": [],
   "source": [
    "model = WANNFCN(mat_wann3, activations)\n",
    "numpy_input = np.array([[1,2,3,4,5],\n",
    "                        [6,7,8,9,10],\n",
    "                        [11,12,13,14,15]])\n",
    "numpy_input = torch.from_numpy(numpy_input).float()\n",
    "model(numpy_input)"
   ]
  },
  {
   "cell_type": "code",
   "execution_count": null,
   "metadata": {},
   "outputs": [],
   "source": [
    "model = WANNFCN(mat_wann4, activations)\n",
    "numpy_input = np.array([[1,2,3,4],\n",
    "                        [6,7,8,9],\n",
    "                        [11,12,13,14]])\n",
    "numpy_input = torch.from_numpy(numpy_input).float()\n",
    "model(numpy_input)"
   ]
  },
  {
   "cell_type": "code",
   "execution_count": null,
   "metadata": {},
   "outputs": [],
   "source": [
    "model = WANNFCN(mat_wann5, activations)\n",
    "numpy_input = np.array([[1,2,3,4,5],\n",
    "                        [6,7,8,9,10],\n",
    "                        [11,12,13,14,15]])\n",
    "numpy_input = torch.from_numpy(numpy_input).float()\n",
    "model(numpy_input)"
   ]
  },
  {
   "cell_type": "code",
   "execution_count": null,
   "metadata": {},
   "outputs": [],
   "source": []
  },
  {
   "cell_type": "code",
   "execution_count": null,
   "metadata": {},
   "outputs": [],
   "source": []
  }
 ],
 "metadata": {
  "kernelspec": {
   "display_name": "Python 3",
   "language": "python",
   "name": "python3"
  },
  "language_info": {
   "codemirror_mode": {
    "name": "ipython",
    "version": 3
   },
   "file_extension": ".py",
   "mimetype": "text/x-python",
   "name": "python",
   "nbconvert_exporter": "python",
   "pygments_lexer": "ipython3",
   "version": "3.6.8"
  }
 },
 "nbformat": 4,
 "nbformat_minor": 4
}
