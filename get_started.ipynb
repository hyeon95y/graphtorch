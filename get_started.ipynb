{
 "cells": [
  {
   "cell_type": "code",
   "execution_count": 1,
   "metadata": {},
   "outputs": [],
   "source": [
    "%matplotlib inline\n",
    "%load_ext autoreload\n",
    "%load_ext lab_black\n",
    "%autoreload 2"
   ]
  },
  {
   "cell_type": "code",
   "execution_count": 2,
   "metadata": {},
   "outputs": [
    {
     "name": "stdout",
     "output_type": "stream",
     "text": [
      "/mnt/mrx-nas/hyeonwoo.yoo/project-solar/graphtorch\n"
     ]
    }
   ],
   "source": [
    "import os, sys\n",
    "\n",
    "print(os.getcwd())"
   ]
  },
  {
   "cell_type": "code",
   "execution_count": 3,
   "metadata": {},
   "outputs": [
    {
     "ename": "ImportError",
     "evalue": "cannot import name 'create_empty_connection_dataframe' from 'graphtorch.wiring.utils' (/mnt/mrx-nas/hyeonwoo.yoo/project-solar/graphtorch/wiring/utils.py)",
     "output_type": "error",
     "traceback": [
      "\u001b[0;31m---------------------------------------------------------------------------\u001b[0m",
      "\u001b[0;31mImportError\u001b[0m                               Traceback (most recent call last)",
      "\u001b[0;32m<ipython-input-3-35e6cf61da78>\u001b[0m in \u001b[0;36m<module>\u001b[0;34m\u001b[0m\n\u001b[1;32m      1\u001b[0m \u001b[0;32mimport\u001b[0m \u001b[0mgraphtorch\u001b[0m \u001b[0;32mas\u001b[0m \u001b[0mgt\u001b[0m\u001b[0;34m\u001b[0m\u001b[0;34m\u001b[0m\u001b[0m\n\u001b[0;32m----> 2\u001b[0;31m \u001b[0;32mfrom\u001b[0m \u001b[0mgraphtorch\u001b[0m\u001b[0;34m.\u001b[0m\u001b[0mwiring\u001b[0m\u001b[0;34m.\u001b[0m\u001b[0msequential\u001b[0m \u001b[0;32mimport\u001b[0m \u001b[0mcreate_sequential_connections\u001b[0m\u001b[0;34m\u001b[0m\u001b[0;34m\u001b[0m\u001b[0m\n\u001b[0m\u001b[1;32m      3\u001b[0m \u001b[0;34m\u001b[0m\u001b[0m\n\u001b[1;32m      4\u001b[0m \u001b[0;32mimport\u001b[0m \u001b[0mtorch\u001b[0m\u001b[0;34m\u001b[0m\u001b[0;34m\u001b[0m\u001b[0m\n\u001b[1;32m      5\u001b[0m \u001b[0;32mimport\u001b[0m \u001b[0mtorch\u001b[0m\u001b[0;34m.\u001b[0m\u001b[0mnn\u001b[0m \u001b[0;32mas\u001b[0m \u001b[0mnn\u001b[0m\u001b[0;34m\u001b[0m\u001b[0;34m\u001b[0m\u001b[0m\n",
      "\u001b[0;32m~/project-solar/graphtorch/wiring/sequential.py\u001b[0m in \u001b[0;36m<module>\u001b[0;34m\u001b[0m\n\u001b[1;32m      3\u001b[0m \u001b[0;32mimport\u001b[0m \u001b[0mnumpy\u001b[0m \u001b[0;32mas\u001b[0m \u001b[0mnp\u001b[0m\u001b[0;34m\u001b[0m\u001b[0;34m\u001b[0m\u001b[0m\n\u001b[1;32m      4\u001b[0m \u001b[0;32mimport\u001b[0m \u001b[0mpandas\u001b[0m \u001b[0;32mas\u001b[0m \u001b[0mpd\u001b[0m\u001b[0;34m\u001b[0m\u001b[0;34m\u001b[0m\u001b[0m\n\u001b[0;32m----> 5\u001b[0;31m \u001b[0;32mfrom\u001b[0m \u001b[0mgraphtorch\u001b[0m\u001b[0;34m.\u001b[0m\u001b[0mwiring\u001b[0m\u001b[0;34m.\u001b[0m\u001b[0mutils\u001b[0m \u001b[0;32mimport\u001b[0m \u001b[0mcreate_empty_connection_dataframe\u001b[0m\u001b[0;34m\u001b[0m\u001b[0;34m\u001b[0m\u001b[0m\n\u001b[0m\u001b[1;32m      6\u001b[0m \u001b[0;34m\u001b[0m\u001b[0m\n\u001b[1;32m      7\u001b[0m \u001b[0;34m\u001b[0m\u001b[0m\n",
      "\u001b[0;32m~/project-solar/graphtorch/wiring/utils.py\u001b[0m in \u001b[0;36m<module>\u001b[0;34m\u001b[0m\n\u001b[1;32m      3\u001b[0m \u001b[0;32mimport\u001b[0m \u001b[0mnumpy\u001b[0m \u001b[0;32mas\u001b[0m \u001b[0mnp\u001b[0m\u001b[0;34m\u001b[0m\u001b[0;34m\u001b[0m\u001b[0m\n\u001b[1;32m      4\u001b[0m \u001b[0;32mimport\u001b[0m \u001b[0mpandas\u001b[0m \u001b[0;32mas\u001b[0m \u001b[0mpd\u001b[0m\u001b[0;34m\u001b[0m\u001b[0;34m\u001b[0m\u001b[0m\n\u001b[0;32m----> 5\u001b[0;31m \u001b[0;32mfrom\u001b[0m \u001b[0mgraphtorch\u001b[0m\u001b[0;34m.\u001b[0m\u001b[0mwiring\u001b[0m\u001b[0;34m.\u001b[0m\u001b[0mparallel\u001b[0m \u001b[0;32mimport\u001b[0m \u001b[0mconnect_parallel_connections\u001b[0m\u001b[0;34m\u001b[0m\u001b[0;34m\u001b[0m\u001b[0m\n\u001b[0m\u001b[1;32m      6\u001b[0m \u001b[0;32mfrom\u001b[0m \u001b[0mgraphtorch\u001b[0m\u001b[0;34m.\u001b[0m\u001b[0mwiring\u001b[0m\u001b[0;34m.\u001b[0m\u001b[0mpredefined\u001b[0m \u001b[0;32mimport\u001b[0m \u001b[0mall_to_all\u001b[0m\u001b[0;34m\u001b[0m\u001b[0;34m\u001b[0m\u001b[0m\n\u001b[1;32m      7\u001b[0m \u001b[0;34m\u001b[0m\u001b[0m\n",
      "\u001b[0;32m~/project-solar/graphtorch/wiring/parallel.py\u001b[0m in \u001b[0;36m<module>\u001b[0;34m\u001b[0m\n\u001b[1;32m      3\u001b[0m \u001b[0;32mimport\u001b[0m \u001b[0mnumpy\u001b[0m \u001b[0;32mas\u001b[0m \u001b[0mnp\u001b[0m\u001b[0;34m\u001b[0m\u001b[0;34m\u001b[0m\u001b[0m\n\u001b[1;32m      4\u001b[0m \u001b[0;32mimport\u001b[0m \u001b[0mpandas\u001b[0m \u001b[0;32mas\u001b[0m \u001b[0mpd\u001b[0m\u001b[0;34m\u001b[0m\u001b[0;34m\u001b[0m\u001b[0m\n\u001b[0;32m----> 5\u001b[0;31m \u001b[0;32mfrom\u001b[0m \u001b[0mgraphtorch\u001b[0m\u001b[0;34m.\u001b[0m\u001b[0mwiring\u001b[0m\u001b[0;34m.\u001b[0m\u001b[0mutils\u001b[0m \u001b[0;32mimport\u001b[0m \u001b[0mcreate_empty_connection_dataframe\u001b[0m\u001b[0;34m\u001b[0m\u001b[0;34m\u001b[0m\u001b[0m\n\u001b[0m\u001b[1;32m      6\u001b[0m \u001b[0;32mfrom\u001b[0m \u001b[0mgraphtorch\u001b[0m\u001b[0;34m.\u001b[0m\u001b[0mwiring\u001b[0m\u001b[0;34m.\u001b[0m\u001b[0mutils\u001b[0m \u001b[0;32mimport\u001b[0m \u001b[0msplit_nodes_by_depth\u001b[0m\u001b[0;34m\u001b[0m\u001b[0;34m\u001b[0m\u001b[0m\n\u001b[1;32m      7\u001b[0m \u001b[0;34m\u001b[0m\u001b[0m\n",
      "\u001b[0;31mImportError\u001b[0m: cannot import name 'create_empty_connection_dataframe' from 'graphtorch.wiring.utils' (/mnt/mrx-nas/hyeonwoo.yoo/project-solar/graphtorch/wiring/utils.py)"
     ]
    }
   ],
   "source": [
    "import graphtorch as gt\n",
    "from graphtorch.wiring.sequential import create_sequential_connections\n",
    "\n",
    "import torch\n",
    "import torch.nn as nn"
   ]
  },
  {
   "cell_type": "markdown",
   "metadata": {},
   "source": [
    "## Define your specification or wiring"
   ]
  },
  {
   "cell_type": "code",
   "execution_count": null,
   "metadata": {},
   "outputs": [],
   "source": [
    "# example1\n",
    "\n",
    "in_dim = 2\n",
    "out_dim = 3\n",
    "\n",
    "nodes_info_ex1 = [10, 20, 30, 50, 70]"
   ]
  },
  {
   "cell_type": "markdown",
   "metadata": {},
   "source": [
    "## Define your 'connection' accepts 'in_dim' and 'out_dim'"
   ]
  },
  {
   "cell_type": "code",
   "execution_count": null,
   "metadata": {},
   "outputs": [],
   "source": [
    "def wire(in_dim, out_dim):\n",
    "    layer = []\n",
    "    layer += [nn.Linear(in_dim, out_dim), nn.BatchNorm1d(out_dim), nn.ReLU()]\n",
    "    return nn.Sequential(*layer)"
   ]
  },
  {
   "cell_type": "markdown",
   "metadata": {},
   "source": [
    "## Create WiredLayer on your taste"
   ]
  },
  {
   "cell_type": "code",
   "execution_count": null,
   "metadata": {},
   "outputs": [],
   "source": [
    "# example1\n",
    "\n",
    "connections_info = create_sequential_connections(\n",
    "    node_dims=nodes_info_ex1,\n",
    "    in_dim=in_dim,\n",
    "    out_dim=out_dim,\n",
    "    split_input_layer=False,\n",
    "    split_output_layer=False,\n",
    ")\n",
    "\n",
    "connections_info[\"connection\"].loc[\"H:0\", \"H:2\"] = 1\n",
    "connections_info[\"connection\"].loc[\"H:1\", \"H:4\"] = 1\n",
    "connections_info[\"connection\"].loc[\"H:1\", \"O:0\"] = 1\n",
    "\n",
    "display(connections_info[\"connection\"])\n",
    "print(connections_info[\"dimension\"])"
   ]
  },
  {
   "cell_type": "code",
   "execution_count": null,
   "metadata": {},
   "outputs": [],
   "source": [
    "layer = gt.WiredLayer(\n",
    "    connections_info, wire=wire, wire_to_output=nn.Linear, sanity_check=True\n",
    ")\n",
    "print(layer)\n",
    "layer(torch.zeros(10, 2).float())"
   ]
  },
  {
   "cell_type": "markdown",
   "metadata": {},
   "source": [
    "## Split your input, output layer to single nodes"
   ]
  },
  {
   "cell_type": "code",
   "execution_count": null,
   "metadata": {},
   "outputs": [],
   "source": [
    "# example2\n",
    "\n",
    "in_dim = 7\n",
    "out_dim = 3\n",
    "\n",
    "nodes_info_ex2 = [6, 2, 1, 9]"
   ]
  },
  {
   "cell_type": "code",
   "execution_count": null,
   "metadata": {},
   "outputs": [],
   "source": [
    "connections_info = create_sequential_connections(\n",
    "    node_dims=nodes_info_ex2,\n",
    "    in_dim=in_dim,\n",
    "    out_dim=out_dim,\n",
    "    split_input_layer=True,\n",
    "    split_output_layer=True,\n",
    ")\n",
    "\n",
    "connections_info[\"connection\"].loc[\"H:0\", \"H:2\"] = 1\n",
    "\n",
    "display(connections_info[\"connection\"])\n",
    "print(connections_info[\"dimension\"])\n",
    "\n",
    "layer = gt.WiredLayer(connections_info, wire=wire, wire_to_output=nn.Linear)\n",
    "print(layer)\n",
    "\n",
    "layer(torch.randint(5, (10, in_dim)).float())"
   ]
  },
  {
   "cell_type": "markdown",
   "metadata": {},
   "source": [
    "# Create diffrent type of wires by location"
   ]
  },
  {
   "cell_type": "code",
   "execution_count": null,
   "metadata": {},
   "outputs": [],
   "source": [
    "# example3\n",
    "\n",
    "in_dim = 5\n",
    "out_dim = 10\n",
    "\n",
    "nodes_info_ex3 = [10, 20, 30, 50, 70]"
   ]
  },
  {
   "cell_type": "code",
   "execution_count": null,
   "metadata": {},
   "outputs": [],
   "source": [
    "def post_activate_relu(in_dim, out_dim):\n",
    "    layer = []\n",
    "    layer += [nn.Linear(in_dim, out_dim), nn.BatchNorm1d(out_dim), nn.ReLU()]\n",
    "    return nn.Sequential(*layer)\n",
    "\n",
    "\n",
    "def pre_activate_relu(in_dim, out_dim):\n",
    "    layer = []\n",
    "    layer += [nn.ReLU(), nn.Linear(in_dim, out_dim), nn.BatchNorm1d(out_dim)]\n",
    "    return nn.Sequential(*layer)"
   ]
  },
  {
   "cell_type": "code",
   "execution_count": null,
   "metadata": {},
   "outputs": [],
   "source": [
    "wires_dict = {\n",
    "    \"pre_activate_relu\": pre_activate_relu,\n",
    "    \"post_activate_relu\": post_activate_relu,\n",
    "}"
   ]
  },
  {
   "cell_type": "code",
   "execution_count": null,
   "metadata": {},
   "outputs": [],
   "source": [
    "# example3\n",
    "\n",
    "connections_info = create_sequential_connections(\n",
    "    node_dims=nodes_info_ex3,\n",
    "    in_dim=in_dim,\n",
    "    out_dim=out_dim,\n",
    "    split_input_layer=False,\n",
    "    split_output_layer=False,\n",
    ")\n",
    "\n",
    "connections_info[\"connection\"].loc[\"H:0\", \"H:2\"] = 1\n",
    "connections_info[\"connection\"].loc[\"H:1\", \"H:4\"] = 1\n",
    "connections_info[\"connection\"].loc[\"H:1\", \"O:0\"] = 1\n",
    "\n",
    "display(connections_info[\"connection\"])\n",
    "print(connections_info[\"dimension\"])"
   ]
  },
  {
   "cell_type": "code",
   "execution_count": null,
   "metadata": {},
   "outputs": [],
   "source": [
    "from graphtorch.wiring import create_wire_dataframe\n",
    "\n",
    "connections_info = create_wire_dataframe(connections_info, wires_dict)\n",
    "print(connections_info[\"wires_dict\"])\n",
    "connections_info[\"wires\"].loc[\"H:0\", \"H:1\"] = \"post_activate_relu\"\n",
    "connections_info[\"wires\"].loc[\"H:2\", \"H:3\"] = \"post_activate_relu\"\n",
    "connections_info[\"wires\"]"
   ]
  },
  {
   "cell_type": "code",
   "execution_count": null,
   "metadata": {},
   "outputs": [],
   "source": [
    "layer = gt.WiredLayer(connections_info)\n",
    "print(layer)\n",
    "\n",
    "layer(torch.randint(5, (10, in_dim)).float())"
   ]
  },
  {
   "cell_type": "markdown",
   "metadata": {},
   "source": [
    "# Create parallel layers"
   ]
  },
  {
   "cell_type": "code",
   "execution_count": null,
   "metadata": {},
   "outputs": [],
   "source": [
    "# example4\n",
    "\n",
    "in_dim = 30\n",
    "out_dim = 10\n",
    "\n",
    "nodes_info_ex4 = [5, 5, 5, 5, 5, 5, 5, 5, 5, 5, 5, 5, 5]\n",
    "\n",
    "num_nodes_in_depth = [1, 6, 2, 1, 3]"
   ]
  },
  {
   "cell_type": "code",
   "execution_count": null,
   "metadata": {},
   "outputs": [],
   "source": [
    "from graphtorch.wiring.parallel import create_parallel_connections\n",
    "from graphtorch.wiring import input_to_all\n",
    "from graphtorch.wiring import all_to_output\n",
    "\n",
    "connections_info = create_parallel_connections(\n",
    "    node_dims=nodes_info_ex4,\n",
    "    in_dim=in_dim,\n",
    "    out_dim=out_dim,\n",
    "    num_nodes_in_depth=num_nodes_in_depth,\n",
    "    split_input_layer=False,\n",
    "    split_output_layer=False,\n",
    ")\n",
    "\n",
    "connections_info[\"connection\"] = input_to_all(connections_info[\"connection\"])\n",
    "connections_info[\"connection\"] = all_to_output(connections_info[\"connection\"])\n",
    "display(connections_info[\"connection\"])\n",
    "print(connections_info[\"dimension\"])\n",
    "print(connections_info[\"nodes_per_depth\"])\n",
    "\n",
    "layer = gt.WiredLayer(connections_info, wire=wire, wire_to_output=nn.Linear)\n",
    "print(layer)\n",
    "\n",
    "layer(torch.randint(5, (10, in_dim)).float())"
   ]
  },
  {
   "cell_type": "markdown",
   "metadata": {},
   "source": [
    "## Randomly create non-sequential connection"
   ]
  },
  {
   "cell_type": "code",
   "execution_count": null,
   "metadata": {},
   "outputs": [],
   "source": [
    "# example4\n",
    "\n",
    "in_dim = 30\n",
    "out_dim = 10\n",
    "\n",
    "nodes_info_ex5 = [5, 5, 5, 5, 5, 5, 5, 5, 5, 5, 5, 5, 5]"
   ]
  },
  {
   "cell_type": "code",
   "execution_count": null,
   "metadata": {},
   "outputs": [],
   "source": [
    "from graphtorch.wiring.random import create_random_connections\n",
    "\n",
    "connections_info = create_random_connections(\n",
    "    node_dims=nodes_info_ex5,\n",
    "    in_dim=in_dim,\n",
    "    out_dim=out_dim,\n",
    "    network_sparsity=0.3,\n",
    "    seed=0,\n",
    "    split_input_layer=False,\n",
    "    split_output_layer=False,\n",
    ")\n",
    "\n",
    "\n",
    "display(connections_info[\"connection\"])\n",
    "print(connections_info[\"dimension\"])\n",
    "print(connections_info[\"nodes_per_depth\"])\n",
    "\n",
    "layer = gt.WiredLayer(connections_info, wire=wire, wire_to_output=nn.Linear)\n",
    "print(layer)\n",
    "\n",
    "layer(torch.randint(5, (10, in_dim)).float())"
   ]
  },
  {
   "cell_type": "code",
   "execution_count": null,
   "metadata": {},
   "outputs": [],
   "source": [
    "for col in temp.columns : \n",
    "    for row in temp.index : \n",
    "        "
   ]
  },
  {
   "cell_type": "code",
   "execution_count": null,
   "metadata": {},
   "outputs": [],
   "source": [
    "temp.count().sum()"
   ]
  },
  {
   "cell_type": "code",
   "execution_count": null,
   "metadata": {},
   "outputs": [],
   "source": []
  }
 ],
 "metadata": {
  "kernelspec": {
   "display_name": "Python 3",
   "language": "python",
   "name": "python3"
  },
  "language_info": {
   "codemirror_mode": {
    "name": "ipython",
    "version": 3
   },
   "file_extension": ".py",
   "mimetype": "text/x-python",
   "name": "python",
   "nbconvert_exporter": "python",
   "pygments_lexer": "ipython3",
   "version": "3.7.3"
  },
  "toc-autonumbering": false
 },
 "nbformat": 4,
 "nbformat_minor": 4
}
